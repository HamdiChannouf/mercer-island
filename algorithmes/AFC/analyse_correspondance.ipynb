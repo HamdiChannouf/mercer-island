{
 "cells": [
  {
   "cell_type": "markdown",
   "metadata": {},
   "source": [
    "## Les bibliotheques"
   ]
  },
  {
   "cell_type": "code",
   "execution_count": 71,
   "metadata": {},
   "outputs": [],
   "source": [
    "%matplotlib inline\n",
    "import pandas as pd\n",
    "import matplotlib.pyplot as plt\n",
    "import seaborn as sns\n",
    "import numpy as np\n",
    "from scipy.stats import chi2"
   ]
  },
  {
   "cell_type": "markdown",
   "metadata": {},
   "source": [
    "## Les donnees"
   ]
  },
  {
   "cell_type": "code",
   "execution_count": 72,
   "metadata": {},
   "outputs": [
    {
     "data": {
      "text/html": [
       "<div>\n",
       "<style>\n",
       "    .dataframe thead tr:only-child th {\n",
       "        text-align: right;\n",
       "    }\n",
       "\n",
       "    .dataframe thead th {\n",
       "        text-align: left;\n",
       "    }\n",
       "\n",
       "    .dataframe tbody tr th {\n",
       "        vertical-align: top;\n",
       "    }\n",
       "</style>\n",
       "<table border=\"1\" class=\"dataframe\">\n",
       "  <thead>\n",
       "    <tr style=\"text-align: right;\">\n",
       "      <th></th>\n",
       "      <th>maison</th>\n",
       "      <th>partiel</th>\n",
       "      <th>plein</th>\n",
       "    </tr>\n",
       "  </thead>\n",
       "  <tbody>\n",
       "    <tr>\n",
       "      <th>double</th>\n",
       "      <td>13</td>\n",
       "      <td>142</td>\n",
       "      <td>106</td>\n",
       "    </tr>\n",
       "    <tr>\n",
       "      <th>plus</th>\n",
       "      <td>30</td>\n",
       "      <td>408</td>\n",
       "      <td>117</td>\n",
       "    </tr>\n",
       "    <tr>\n",
       "      <th>seul</th>\n",
       "      <td>241</td>\n",
       "      <td>573</td>\n",
       "      <td>94</td>\n",
       "    </tr>\n",
       "  </tbody>\n",
       "</table>\n",
       "</div>"
      ],
      "text/plain": [
       "        maison  partiel  plein\n",
       "double      13      142    106\n",
       "plus        30      408    117\n",
       "seul       241      573     94"
      ]
     },
     "execution_count": 72,
     "metadata": {},
     "output_type": "execute_result"
    }
   ],
   "source": [
    "femme = pd.read_csv(\"afc_femme.csv\", sep=\";\")\n",
    "femme"
   ]
  },
  {
   "cell_type": "markdown",
   "metadata": {},
   "source": [
    "On calcule la marginale suivant les colonnes."
   ]
  },
  {
   "cell_type": "code",
   "execution_count": 73,
   "metadata": {},
   "outputs": [
    {
     "data": {
      "text/plain": [
       "maison      284\n",
       "partiel    1123\n",
       "plein       317\n",
       "dtype: int64"
      ]
     },
     "execution_count": 73,
     "metadata": {},
     "output_type": "execute_result"
    }
   ],
   "source": [
    "nj = femme.sum(axis=0)\n",
    "nj"
   ]
  },
  {
   "cell_type": "markdown",
   "metadata": {},
   "source": [
    "On calcule la marginale suivant les lignes."
   ]
  },
  {
   "cell_type": "code",
   "execution_count": 74,
   "metadata": {},
   "outputs": [
    {
     "data": {
      "text/plain": [
       "double    261\n",
       "plus      555\n",
       "seul      908\n",
       "dtype: int64"
      ]
     },
     "execution_count": 74,
     "metadata": {},
     "output_type": "execute_result"
    }
   ],
   "source": [
    "ni = femme.sum(axis=1)\n",
    "ni"
   ]
  },
  {
   "cell_type": "markdown",
   "metadata": {},
   "source": [
    "On calcule l'effectif de l'echantillon."
   ]
  },
  {
   "cell_type": "code",
   "execution_count": 75,
   "metadata": {},
   "outputs": [
    {
     "data": {
      "text/plain": [
       "1724"
      ]
     },
     "execution_count": 75,
     "metadata": {},
     "output_type": "execute_result"
    }
   ],
   "source": [
    "n = femme.values.sum()\n",
    "n"
   ]
  },
  {
   "cell_type": "markdown",
   "metadata": {},
   "source": [
    "En colonne, il s'agit de la densite de la variable \"Source des revenus\"/\"Situation de l'epouse\""
   ]
  },
  {
   "cell_type": "code",
   "execution_count": 76,
   "metadata": {},
   "outputs": [
    {
     "data": {
      "text/html": [
       "<div>\n",
       "<style>\n",
       "    .dataframe thead tr:only-child th {\n",
       "        text-align: right;\n",
       "    }\n",
       "\n",
       "    .dataframe thead th {\n",
       "        text-align: left;\n",
       "    }\n",
       "\n",
       "    .dataframe tbody tr th {\n",
       "        vertical-align: top;\n",
       "    }\n",
       "</style>\n",
       "<table border=\"1\" class=\"dataframe\">\n",
       "  <thead>\n",
       "    <tr style=\"text-align: right;\">\n",
       "      <th></th>\n",
       "      <th>maison</th>\n",
       "      <th>partiel</th>\n",
       "      <th>plein</th>\n",
       "    </tr>\n",
       "  </thead>\n",
       "  <tbody>\n",
       "    <tr>\n",
       "      <th>double</th>\n",
       "      <td>0.045775</td>\n",
       "      <td>0.126447</td>\n",
       "      <td>0.334385</td>\n",
       "    </tr>\n",
       "    <tr>\n",
       "      <th>plus</th>\n",
       "      <td>0.105634</td>\n",
       "      <td>0.363313</td>\n",
       "      <td>0.369085</td>\n",
       "    </tr>\n",
       "    <tr>\n",
       "      <th>seul</th>\n",
       "      <td>0.848592</td>\n",
       "      <td>0.510240</td>\n",
       "      <td>0.296530</td>\n",
       "    </tr>\n",
       "  </tbody>\n",
       "</table>\n",
       "</div>"
      ],
      "text/plain": [
       "          maison   partiel     plein\n",
       "double  0.045775  0.126447  0.334385\n",
       "plus    0.105634  0.363313  0.369085\n",
       "seul    0.848592  0.510240  0.296530"
      ]
     },
     "execution_count": 76,
     "metadata": {},
     "output_type": "execute_result"
    }
   ],
   "source": [
    "femme_col = femme.mul(1/nj, axis=1)\n",
    "femme_col"
   ]
  },
  {
   "cell_type": "markdown",
   "metadata": {},
   "source": [
    "On calcule maintenant la densite theorique dans le cas des variables independance."
   ]
  },
  {
   "cell_type": "code",
   "execution_count": 77,
   "metadata": {},
   "outputs": [
    {
     "data": {
      "text/plain": [
       "array([[  42.99535963,  170.01334107,   47.9912993 ],\n",
       "       [  91.42691415,  361.52262181,  102.05046404],\n",
       "       [ 149.57772622,  591.46403712,  166.95823666]])"
      ]
     },
     "execution_count": 77,
     "metadata": {},
     "output_type": "execute_result"
    }
   ],
   "source": [
    "femme_the = (np.outer(ni, nj)/n)\n",
    "femme_the"
   ]
  },
  {
   "cell_type": "markdown",
   "metadata": {},
   "source": [
    "On calcule la valeur de la statistique du $\\chi^2$(4)"
   ]
  },
  {
   "cell_type": "code",
   "execution_count": 78,
   "metadata": {},
   "outputs": [
    {
     "data": {
      "text/plain": [
       "233.43041665766299"
      ]
     },
     "execution_count": 78,
     "metadata": {},
     "output_type": "execute_result"
    }
   ],
   "source": [
    "femme_chi = ((femme - femme_the)**2/femme_the).values.sum()\n",
    "femme_chi"
   ]
  },
  {
   "cell_type": "markdown",
   "metadata": {},
   "source": [
    "La valeurs de la pi-value associe au test d'independance"
   ]
  },
  {
   "cell_type": "code",
   "execution_count": 79,
   "metadata": {},
   "outputs": [
    {
     "data": {
      "text/plain": [
       "2.4102475171612144e-49"
      ]
     },
     "execution_count": 79,
     "metadata": {},
     "output_type": "execute_result"
    }
   ],
   "source": [
    "femme_pvalue = chi2.sf(femme_chi, 4)\n",
    "femme_pvalue"
   ]
  },
  {
   "cell_type": "markdown",
   "metadata": {},
   "source": [
    "## Analyse ligne\n",
    "\n",
    "On peut aussi parler d'analyse de Situation/Source.\n",
    "\n",
    "Chacunes des lignes represente la variable aleatoire Situation conditionnellement a Source egal au facteur de la ligne.\n",
    "Plus precisement, il s'agit de la densite conditionnelle empirique."
   ]
  },
  {
   "cell_type": "code",
   "execution_count": 80,
   "metadata": {
    "scrolled": true
   },
   "outputs": [
    {
     "data": {
      "text/html": [
       "<div>\n",
       "<style>\n",
       "    .dataframe thead tr:only-child th {\n",
       "        text-align: right;\n",
       "    }\n",
       "\n",
       "    .dataframe thead th {\n",
       "        text-align: left;\n",
       "    }\n",
       "\n",
       "    .dataframe tbody tr th {\n",
       "        vertical-align: top;\n",
       "    }\n",
       "</style>\n",
       "<table border=\"1\" class=\"dataframe\">\n",
       "  <thead>\n",
       "    <tr style=\"text-align: right;\">\n",
       "      <th></th>\n",
       "      <th>maison</th>\n",
       "      <th>partiel</th>\n",
       "      <th>plein</th>\n",
       "    </tr>\n",
       "  </thead>\n",
       "  <tbody>\n",
       "    <tr>\n",
       "      <th>double</th>\n",
       "      <td>0.049808</td>\n",
       "      <td>0.544061</td>\n",
       "      <td>0.406130</td>\n",
       "    </tr>\n",
       "    <tr>\n",
       "      <th>plus</th>\n",
       "      <td>0.054054</td>\n",
       "      <td>0.735135</td>\n",
       "      <td>0.210811</td>\n",
       "    </tr>\n",
       "    <tr>\n",
       "      <th>seul</th>\n",
       "      <td>0.265419</td>\n",
       "      <td>0.631057</td>\n",
       "      <td>0.103524</td>\n",
       "    </tr>\n",
       "  </tbody>\n",
       "</table>\n",
       "</div>"
      ],
      "text/plain": [
       "          maison   partiel     plein\n",
       "double  0.049808  0.544061  0.406130\n",
       "plus    0.054054  0.735135  0.210811\n",
       "seul    0.265419  0.631057  0.103524"
      ]
     },
     "execution_count": 80,
     "metadata": {},
     "output_type": "execute_result"
    }
   ],
   "source": [
    "femme_row = femme.mul(1/ni, axis=0)\n",
    "femme_row"
   ]
  },
  {
   "cell_type": "markdown",
   "metadata": {},
   "source": [
    "On represente ces trois lignes dans l'espace $\\mathrm{R}^3$"
   ]
  },
  {
   "cell_type": "code",
   "execution_count": 166,
   "metadata": {
    "scrolled": true
   },
   "outputs": [
    {
     "data": {
      "application/vnd.plotly.v1+json": {
       "data": [
        {
         "type": "scatter3d",
         "x": [
          0.04980842911877394,
          0.05405405405405406,
          0.2654185022026432
         ],
         "y": [
          0.5440613026819923,
          0.7351351351351352,
          0.631057268722467
         ],
         "z": [
          0.4061302681992337,
          0.21081081081081082,
          0.10352422907488988
         ]
        },
        {
         "type": "scatter3d",
         "x": [
          0.045774647887323945,
          0.12644701691896704,
          0.334384858044164
         ],
         "y": [
          0.1056338028169014,
          0.3633125556544969,
          0.36908517350157727
         ],
         "z": [
          0.8485915492957746,
          0.5102404274265361,
          0.29652996845425866
         ]
        },
        {
         "opacity": 0.5,
         "type": "mesh3d",
         "x": [
          1,
          0,
          0
         ],
         "y": [
          0,
          1,
          0
         ],
         "z": [
          0,
          0,
          1
         ]
        }
       ],
       "layout": {
        "autosize": false,
        "height": 1000,
        "title": "Distribution Conditionnelle dans le triangle des probabilites",
        "width": 1000
       }
      },
      "text/html": [
       "<div id=\"b050b1c9-9624-43e4-9734-584b2218cc44\" style=\"height: 1000px; width: 1000px;\" class=\"plotly-graph-div\"></div><script type=\"text/javascript\">require([\"plotly\"], function(Plotly) { window.PLOTLYENV=window.PLOTLYENV || {};window.PLOTLYENV.BASE_URL=\"https://plot.ly\";Plotly.newPlot(\"b050b1c9-9624-43e4-9734-584b2218cc44\", [{\"type\": \"scatter3d\", \"x\": [0.04980842911877394, 0.05405405405405406, 0.2654185022026432], \"y\": [0.5440613026819923, 0.7351351351351352, 0.631057268722467], \"z\": [0.4061302681992337, 0.21081081081081082, 0.10352422907488988]}, {\"type\": \"scatter3d\", \"x\": [0.045774647887323945, 0.12644701691896704, 0.334384858044164], \"y\": [0.1056338028169014, 0.3633125556544969, 0.36908517350157727], \"z\": [0.8485915492957746, 0.5102404274265361, 0.29652996845425866]}, {\"type\": \"mesh3d\", \"x\": [1, 0, 0], \"y\": [0, 1, 0], \"z\": [0, 0, 1], \"opacity\": 0.5}], {\"title\": \"Distribution Conditionnelle dans le triangle des probabilites\", \"autosize\": false, \"width\": 1000, \"height\": 1000}, {\"showLink\": true, \"linkText\": \"Export to plot.ly\"})});</script>"
      ],
      "text/vnd.plotly.v1+html": [
       "<div id=\"b050b1c9-9624-43e4-9734-584b2218cc44\" style=\"height: 1000px; width: 1000px;\" class=\"plotly-graph-div\"></div><script type=\"text/javascript\">require([\"plotly\"], function(Plotly) { window.PLOTLYENV=window.PLOTLYENV || {};window.PLOTLYENV.BASE_URL=\"https://plot.ly\";Plotly.newPlot(\"b050b1c9-9624-43e4-9734-584b2218cc44\", [{\"type\": \"scatter3d\", \"x\": [0.04980842911877394, 0.05405405405405406, 0.2654185022026432], \"y\": [0.5440613026819923, 0.7351351351351352, 0.631057268722467], \"z\": [0.4061302681992337, 0.21081081081081082, 0.10352422907488988]}, {\"type\": \"scatter3d\", \"x\": [0.045774647887323945, 0.12644701691896704, 0.334384858044164], \"y\": [0.1056338028169014, 0.3633125556544969, 0.36908517350157727], \"z\": [0.8485915492957746, 0.5102404274265361, 0.29652996845425866]}, {\"type\": \"mesh3d\", \"x\": [1, 0, 0], \"y\": [0, 1, 0], \"z\": [0, 0, 1], \"opacity\": 0.5}], {\"title\": \"Distribution Conditionnelle dans le triangle des probabilites\", \"autosize\": false, \"width\": 1000, \"height\": 1000}, {\"showLink\": true, \"linkText\": \"Export to plot.ly\"})});</script>"
      ]
     },
     "metadata": {},
     "output_type": "display_data"
    }
   ],
   "source": [
    "import plotly.graph_objs as go\n",
    "\n",
    "z_data = pd.read_csv('https://raw.githubusercontent.com/plotly/datasets/master/api_docs/mt_bruno_elevation.csv')\n",
    "\n",
    "scatter3d_femme_row = go.Scatter3d(\n",
    "    x = femme_row['maison'],\n",
    "    y = femme_row['partiel'],\n",
    "    z = femme_row['plein'])\n",
    "\n",
    "scatter3d_femme_col = go.Scatter3d(\n",
    "    x = femme_col.loc['double'],\n",
    "    y = femme_col.loc['plus'],\n",
    "    z = femme_col.loc['seul'])\n",
    "\n",
    "triangle = go.Mesh3d(\n",
    "    x = [1, 0, 0],\n",
    "    y = [0, 1, 0],\n",
    "    z = [0, 0, 1], opacity=0.5)\n",
    "\n",
    "data = [scatter3d_femme_row, \n",
    "        scatter3d_femme_col, \n",
    "        triangle]\n",
    "\n",
    "\n",
    "layout = go.Layout(\n",
    "    title='Distribution Conditionnelle dans le triangle des probabilites',\n",
    "    autosize=False,\n",
    "    width=1000,\n",
    "    height=1000\n",
    ")\n",
    "fig_femme_row = go.Figure(data=data, layout=layout)\n",
    "py.iplot(fig_femme_row, filename='femme_row')\n"
   ]
  }
 ],
 "metadata": {
  "kernelspec": {
   "display_name": "Python 3",
   "language": "python",
   "name": "python3"
  },
  "language_info": {
   "codemirror_mode": {
    "name": "ipython",
    "version": 3
   },
   "file_extension": ".py",
   "mimetype": "text/x-python",
   "name": "python",
   "nbconvert_exporter": "python",
   "pygments_lexer": "ipython3",
   "version": "3.6.2"
  }
 },
 "nbformat": 4,
 "nbformat_minor": 2
}
